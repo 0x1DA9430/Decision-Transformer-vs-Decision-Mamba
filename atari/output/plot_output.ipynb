{
 "cells": [
  {
   "cell_type": "code",
   "execution_count": 61,
   "metadata": {},
   "outputs": [],
   "source": [
    "import pandas as pd\n",
    "import numpy as np\n",
    "import os"
   ]
  },
  {
   "cell_type": "code",
   "execution_count": 62,
   "metadata": {},
   "outputs": [],
   "source": [
    "def process_experiment_data(base_path, experiment_prefix):\n",
    "    seeds = [\"123\", \"213\", \"321\"]\n",
    "    data_frames = []\n",
    "    \n",
    "    # Loop through each seed and load the corresponding summary.csv\n",
    "    for seed in seeds:\n",
    "        file_path = os.path.join(base_path, f\"{experiment_prefix}{seed}\", \"summary.csv\")\n",
    "        df = pd.read_csv(file_path)\n",
    "        data_frames.append(df)\n",
    "\n",
    "    \n",
    "    # Combine data frames and calculate average\n",
    "    if data_frames:\n",
    "        combined_data = pd.concat(data_frames)\n",
    "        average_data = combined_data.groupby('epoch').mean()\n",
    "        return average_data\n",
    "    else:\n",
    "        return None  # or appropriate response like an empty DataFrame\n"
   ]
  },
  {
   "cell_type": "markdown",
   "metadata": {},
   "source": [
    "### Average results over 3 seeds"
   ]
  },
  {
   "cell_type": "code",
   "execution_count": 63,
   "metadata": {},
   "outputs": [],
   "source": [
    "base_path = \"~/msc-project/atari/output/atari_1/\"\n",
    "experiment_types = [\"dmamba_breakout\", \"dtrans_breakout\", \"dmamba_qbert\", \"dtrans_qbert\"]  # add more as needed\n",
    "\n",
    "experiment_results = {}\n",
    "\n",
    "for experiment in experiment_types:\n",
    "    result = process_experiment_data(base_path, experiment)\n",
    "    if result is not None:\n",
    "        experiment_results[experiment] = result\n",
    "        # print(f\"Results for {experiment}:\")\n",
    "        # print(result)\n",
    "        # print(\"\\n\")\n",
    "        # Save to csv with prefix avg_\n",
    "        result.to_csv(f\"avg_{experiment}.csv\")\n",
    "    else:\n",
    "        print(f\"No data processed for {experiment}\")"
   ]
  },
  {
   "cell_type": "markdown",
   "metadata": {},
   "source": [
    "### Norm score"
   ]
  },
  {
   "cell_type": "code",
   "execution_count": 66,
   "metadata": {},
   "outputs": [],
   "source": [
    "import pandas as pd\n",
    "\n",
    "def calculate_normalized_score(raw_scores, score_random, score_expert):\n",
    "    return 100 * (raw_scores - score_random) / (score_expert - score_random)\n",
    "\n",
    "def process_experiment_results(base_path, experiment_prefix, game):\n",
    "    seeds = [\"123\", \"213\", \"321\"]\n",
    "    normalized_scores = []\n",
    "\n",
    "    # Game specific random and expert scores\n",
    "    score_random = {\n",
    "        'Breakout': 1.7, 'Qbert': 163.9, 'Pong': -20.7, 'Seaquest': 68.4\n",
    "    }\n",
    "    score_expert = {\n",
    "        'Breakout': 30.5, 'Qbert': 13455.0, 'Pong': 14.6, 'Seaquest': 42054.7\n",
    "    }\n",
    "\n",
    "    for seed in seeds:\n",
    "        file_path = f\"{base_path}{experiment_prefix}{seed}/summary.csv\"\n",
    "        if pd.read_csv(file_path).empty:\n",
    "            print(f\"Warning: No data in {file_path}\")\n",
    "            continue\n",
    "\n",
    "        # Load last epoch data\n",
    "        last_epoch_data = pd.read_csv(file_path).iloc[-1]\n",
    "        raw_score = last_epoch_data['evaluation/eval_return']\n",
    "\n",
    "        # Calculate normalized score\n",
    "        normalized_score = calculate_normalized_score(raw_score, score_random[game], score_expert[game])\n",
    "        normalized_scores.append(normalized_score)\n",
    "\n",
    "    if normalized_scores:\n",
    "        return pd.Series(normalized_scores).agg(['mean', 'std'])\n",
    "    else:\n",
    "        return None\n"
   ]
  },
  {
   "cell_type": "code",
   "execution_count": 67,
   "metadata": {},
   "outputs": [
    {
     "name": "stdout",
     "output_type": "stream",
     "text": [
      "Game: Breakout \n",
      "Model: dmamba_breakout\n",
      "mean    175.81\n",
      "std      36.96\n",
      "dtype: float64\n",
      "\n",
      "Game: Breakout \n",
      "Model: dtrans_breakout\n",
      "mean    195.25\n",
      "std      36.98\n",
      "dtype: float64\n",
      "\n",
      "Game: Qbert \n",
      "Model: dmamba_qbert\n",
      "mean    17.21\n",
      "std     13.38\n",
      "dtype: float64\n",
      "\n",
      "Game: Qbert \n",
      "Model: dtrans_qbert\n",
      "mean    3.78\n",
      "std     2.02\n",
      "dtype: float64\n",
      "\n"
     ]
    }
   ],
   "source": [
    "# Example usage\n",
    "base_path = \"~/msc-project/atari/output/atari_1/\"\n",
    "\n",
    "experiment_prefix = \"dmamba_breakout\"\n",
    "game = \"Breakout\"\n",
    "results = process_experiment_results(base_path, experiment_prefix, game)\n",
    "results = results.round(2) # Round to 2 decimal places\n",
    "print(f\"Game: {game} \\nModel: {experiment_prefix}\")\n",
    "print(results)\n",
    "print()\n",
    "\n",
    "experiment_prefix = \"dtrans_breakout\"\n",
    "game = \"Breakout\"\n",
    "results = process_experiment_results(base_path, experiment_prefix, game)\n",
    "results = results.round(2) # Round to 2 decimal places\n",
    "print(f\"Game: {game} \\nModel: {experiment_prefix}\")\n",
    "print(results)\n",
    "print()\n",
    "\n",
    "experiment_prefix = \"dmamba_qbert\"\n",
    "game = \"Qbert\"\n",
    "results = process_experiment_results(base_path, experiment_prefix, game)\n",
    "results = results.round(2) # Round to 2 decimal places\n",
    "print(f\"Game: {game} \\nModel: {experiment_prefix}\")\n",
    "print(results)\n",
    "print()\n",
    "\n",
    "experiment_prefix = \"dtrans_qbert\"\n",
    "game = \"Qbert\"\n",
    "results = process_experiment_results(base_path, experiment_prefix, game)\n",
    "results = results.round(2) # Round to 2 decimal places\n",
    "print(f\"Game: {game} \\nModel: {experiment_prefix}\")\n",
    "print(results)\n",
    "print()\n"
   ]
  }
 ],
 "metadata": {
  "kernelspec": {
   "display_name": "nlu",
   "language": "python",
   "name": "python3"
  },
  "language_info": {
   "codemirror_mode": {
    "name": "ipython",
    "version": 3
   },
   "file_extension": ".py",
   "mimetype": "text/x-python",
   "name": "python",
   "nbconvert_exporter": "python",
   "pygments_lexer": "ipython3",
   "version": "3.11.5"
  }
 },
 "nbformat": 4,
 "nbformat_minor": 2
}
